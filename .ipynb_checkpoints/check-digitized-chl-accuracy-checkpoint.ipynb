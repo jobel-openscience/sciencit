{
 "cells": [
  {
   "cell_type": "code",
   "execution_count": 1,
   "metadata": {
    "collapsed": true
   },
   "outputs": [],
   "source": [
    "__modified__ = {\"2016-04-17\":\"Fixed week number as calculation done in excel was wrong. Helena populated the tables with correct week numbers\"}\n"
   ]
  },
  {
   "cell_type": "code",
   "execution_count": 20,
   "metadata": {
    "collapsed": true
   },
   "outputs": [],
   "source": [
    "import pandas as pd\n",
    "import os\n",
    "import numpy as np\n",
    "import datetime"
   ]
  },
  {
   "cell_type": "markdown",
   "metadata": {},
   "source": [
    "# Loading data"
   ]
  },
  {
   "cell_type": "code",
   "execution_count": 10,
   "metadata": {
    "collapsed": false
   },
   "outputs": [
    {
     "name": "stderr",
     "output_type": "stream",
     "text": [
      "/home/jobel/anaconda2/lib/python2.7/site-packages/ipykernel/__main__.py:30: PerformanceWarning: indexing past lexsort depth may impact performance.\n"
     ]
    },
    {
     "data": {
      "text/html": [
       "<div>\n",
       "<table border=\"1\" class=\"dataframe\">\n",
       "  <thead>\n",
       "    <tr style=\"text-align: right;\">\n",
       "      <th></th>\n",
       "      <th>Chl</th>\n",
       "    </tr>\n",
       "    <tr>\n",
       "      <th>week</th>\n",
       "      <th></th>\n",
       "    </tr>\n",
       "  </thead>\n",
       "  <tbody>\n",
       "    <tr>\n",
       "      <th>4</th>\n",
       "      <td>0.21</td>\n",
       "    </tr>\n",
       "    <tr>\n",
       "      <th>8</th>\n",
       "      <td>0.31</td>\n",
       "    </tr>\n",
       "    <tr>\n",
       "      <th>11</th>\n",
       "      <td>1.50</td>\n",
       "    </tr>\n",
       "    <tr>\n",
       "      <th>13</th>\n",
       "      <td>6.40</td>\n",
       "    </tr>\n",
       "    <tr>\n",
       "      <th>14</th>\n",
       "      <td>4.30</td>\n",
       "    </tr>\n",
       "  </tbody>\n",
       "</table>\n",
       "</div>"
      ],
      "text/plain": [
       "       Chl\n",
       "week      \n",
       "4     0.21\n",
       "8     0.31\n",
       "11    1.50\n",
       "13    6.40\n",
       "14    4.30"
      ]
     },
     "execution_count": 10,
     "metadata": {},
     "output_type": "execute_result"
    }
   ],
   "source": [
    "### Load the digitized values\n",
    "dirname = \"/home/jobel/Dropbox/EuRuCAS/Helena_data\"\n",
    "# NOTE THAT THIS FILE IS NOT LONGER VALID FOR H3. \n",
    "filename = \"2002-2012_Chla_H3_to_Jose_2015-08-26.xlsx - Sheet1.tsv\"\n",
    "H3 = pd.read_csv(os.path.join(dirname,filename), sep=\"\\t\")\n",
    "# Droping extra column\n",
    "H3.drop('IDepth', axis=1, inplace=True)\n",
    "#\n",
    "\n",
    "\n",
    "dirname = \"/home/jobel/Dropbox/EuRuCAS/Helena_data/corrected_data\"\n",
    "filename = \"Check_data_B1_H4_H5_HH_Excel_corrected_B1_corr.txt\"\n",
    "B1 = pd.read_csv(os.path.join(dirname,filename), sep=\"\\t\")\n",
    "#\n",
    "filename = \"Check_data_B1_H4_H5_HH_Excel_corrected_H4_corr.txt\"\n",
    "H4 = pd.read_csv(os.path.join(dirname,filename), sep=\"\\t\")\n",
    "#\n",
    "filename = \"Check_data_B1_H4_H5_HH_Excel_corrected_H5_corr.txt\"\n",
    "H5 = pd.read_csv(os.path.join(dirname,filename), sep=\"\\t\")\n",
    "#\n",
    "\n",
    "B1[B1.year == 2003]\n",
    "# Concantenating the df and indexing and seleccting all columns but those from index\n",
    "frames = [B1,H5,H4, H3]\n",
    "digitized = pd.concat(frames)\n",
    "# Drop columns, i.e. axis=1\n",
    "digitized.reset_index(drop=True, inplace=True)\n",
    "digitized.drop(labels=[\"Comment\",\"DIN\",\"Date\",\"PO4\",\"month\",\"ratio\"], axis=1,inplace=True)\n",
    "digitized.index = [digitized.station, digitized.year, digitized.week]\n",
    "digitized.drop(labels=[\"station\",\"year\", \"week\"],axis=1,inplace=True)\n",
    "digitized.loc[\"B1\",2003][:5]"
   ]
  },
  {
   "cell_type": "code",
   "execution_count": 45,
   "metadata": {
    "collapsed": false
   },
   "outputs": [
    {
     "data": {
      "text/html": [
       "<div>\n",
       "<table border=\"1\" class=\"dataframe\">\n",
       "  <thead>\n",
       "    <tr style=\"text-align: right;\">\n",
       "      <th></th>\n",
       "      <th>SDATE</th>\n",
       "      <th>STATION</th>\n",
       "      <th>Week</th>\n",
       "      <th>IDEPTH</th>\n",
       "      <th>Chl_a_ugl</th>\n",
       "      <th>Comment_txt</th>\n",
       "    </tr>\n",
       "  </thead>\n",
       "  <tbody>\n",
       "    <tr>\n",
       "      <th>0</th>\n",
       "      <td>2003-01-22</td>\n",
       "      <td>B1</td>\n",
       "      <td>4</td>\n",
       "      <td>0-20</td>\n",
       "      <td>0.21</td>\n",
       "      <td>NaN</td>\n",
       "    </tr>\n",
       "    <tr>\n",
       "      <th>1</th>\n",
       "      <td>2003-02-18</td>\n",
       "      <td>B1</td>\n",
       "      <td>8</td>\n",
       "      <td>0-20</td>\n",
       "      <td>0.28</td>\n",
       "      <td>NaN</td>\n",
       "    </tr>\n",
       "    <tr>\n",
       "      <th>2</th>\n",
       "      <td>2003-03-10</td>\n",
       "      <td>B1</td>\n",
       "      <td>11</td>\n",
       "      <td>0-20</td>\n",
       "      <td>1.47</td>\n",
       "      <td>NaN</td>\n",
       "    </tr>\n",
       "    <tr>\n",
       "      <th>3</th>\n",
       "      <td>2003-03-25</td>\n",
       "      <td>B1</td>\n",
       "      <td>13</td>\n",
       "      <td>0-20</td>\n",
       "      <td>6.37</td>\n",
       "      <td>NaN</td>\n",
       "    </tr>\n",
       "    <tr>\n",
       "      <th>4</th>\n",
       "      <td>2003-04-01</td>\n",
       "      <td>B1</td>\n",
       "      <td>14</td>\n",
       "      <td>0-20</td>\n",
       "      <td>4.22</td>\n",
       "      <td>NaN</td>\n",
       "    </tr>\n",
       "  </tbody>\n",
       "</table>\n",
       "</div>"
      ],
      "text/plain": [
       "       SDATE STATION  Week IDEPTH  Chl_a_ugl Comment_txt\n",
       "0 2003-01-22      B1     4   0-20       0.21         NaN\n",
       "1 2003-02-18      B1     8   0-20       0.28         NaN\n",
       "2 2003-03-10      B1    11   0-20       1.47         NaN\n",
       "3 2003-03-25      B1    13   0-20       6.37         NaN\n",
       "4 2003-04-01      B1    14   0-20       4.22         NaN"
      ]
     },
     "execution_count": 45,
     "metadata": {},
     "output_type": "execute_result"
    }
   ],
   "source": [
    "# Insitu Source\n",
    "dirname = \"/home/jobel/Dropbox/EuRuCAS/Helena_data\"\n",
    "filename = \"CHLA_hose_discr_HH_2016-04-20_HH.csv\"\n",
    "\n",
    "insitu = pd.read_csv(os.path.join(dirname,filename), delimiter=\"\\t\", parse_dates=[0],date_parser = lambda x: pd.datetime.strptime(x, '%m/%d/%Y'))\n",
    "insitu.head()"
   ]
  },
  {
   "cell_type": "code",
   "execution_count": 46,
   "metadata": {
    "collapsed": false,
    "scrolled": true
   },
   "outputs": [
    {
     "data": {
      "text/html": [
       "<div>\n",
       "<table border=\"1\" class=\"dataframe\">\n",
       "  <thead>\n",
       "    <tr style=\"text-align: right;\">\n",
       "      <th></th>\n",
       "      <th>SDATE</th>\n",
       "      <th>station</th>\n",
       "      <th>week</th>\n",
       "      <th>IDEPTH</th>\n",
       "      <th>Chl_a_ugl</th>\n",
       "      <th>Comment_txt</th>\n",
       "      <th>year</th>\n",
       "    </tr>\n",
       "  </thead>\n",
       "  <tbody>\n",
       "    <tr>\n",
       "      <th>0</th>\n",
       "      <td>2003-01-22</td>\n",
       "      <td>B1</td>\n",
       "      <td>4</td>\n",
       "      <td>0-20</td>\n",
       "      <td>0.21</td>\n",
       "      <td>NaN</td>\n",
       "      <td>2003</td>\n",
       "    </tr>\n",
       "    <tr>\n",
       "      <th>1</th>\n",
       "      <td>2003-02-18</td>\n",
       "      <td>B1</td>\n",
       "      <td>8</td>\n",
       "      <td>0-20</td>\n",
       "      <td>0.28</td>\n",
       "      <td>NaN</td>\n",
       "      <td>2003</td>\n",
       "    </tr>\n",
       "    <tr>\n",
       "      <th>2</th>\n",
       "      <td>2003-03-10</td>\n",
       "      <td>B1</td>\n",
       "      <td>11</td>\n",
       "      <td>0-20</td>\n",
       "      <td>1.47</td>\n",
       "      <td>NaN</td>\n",
       "      <td>2003</td>\n",
       "    </tr>\n",
       "    <tr>\n",
       "      <th>3</th>\n",
       "      <td>2003-03-25</td>\n",
       "      <td>B1</td>\n",
       "      <td>13</td>\n",
       "      <td>0-20</td>\n",
       "      <td>6.37</td>\n",
       "      <td>NaN</td>\n",
       "      <td>2003</td>\n",
       "    </tr>\n",
       "    <tr>\n",
       "      <th>4</th>\n",
       "      <td>2003-04-01</td>\n",
       "      <td>B1</td>\n",
       "      <td>14</td>\n",
       "      <td>0-20</td>\n",
       "      <td>4.22</td>\n",
       "      <td>NaN</td>\n",
       "      <td>2003</td>\n",
       "    </tr>\n",
       "  </tbody>\n",
       "</table>\n",
       "</div>"
      ],
      "text/plain": [
       "       SDATE station  week IDEPTH  Chl_a_ugl Comment_txt  year\n",
       "0 2003-01-22      B1     4   0-20       0.21         NaN  2003\n",
       "1 2003-02-18      B1     8   0-20       0.28         NaN  2003\n",
       "2 2003-03-10      B1    11   0-20       1.47         NaN  2003\n",
       "3 2003-03-25      B1    13   0-20       6.37         NaN  2003\n",
       "4 2003-04-01      B1    14   0-20       4.22         NaN  2003"
      ]
     },
     "execution_count": 46,
     "metadata": {},
     "output_type": "execute_result"
    }
   ],
   "source": [
    "insitu[\"year\"] = insitu['SDATE'].dt.year\n",
    "insitu.rename(columns = {'STATION':'station', \"Week\":\"week\"}, inplace = True)\n",
    "insitu.head()\n"
   ]
  },
  {
   "cell_type": "code",
   "execution_count": 47,
   "metadata": {
    "collapsed": false
   },
   "outputs": [
    {
     "data": {
      "text/html": [
       "<div>\n",
       "<table border=\"1\" class=\"dataframe\">\n",
       "  <thead>\n",
       "    <tr style=\"text-align: right;\">\n",
       "      <th></th>\n",
       "      <th>SDATE</th>\n",
       "      <th>station</th>\n",
       "      <th>week</th>\n",
       "      <th>IDEPTH</th>\n",
       "      <th>Chl_a_ugl</th>\n",
       "      <th>Comment_txt</th>\n",
       "      <th>year</th>\n",
       "    </tr>\n",
       "    <tr>\n",
       "      <th>week</th>\n",
       "      <th></th>\n",
       "      <th></th>\n",
       "      <th></th>\n",
       "      <th></th>\n",
       "      <th></th>\n",
       "      <th></th>\n",
       "      <th></th>\n",
       "    </tr>\n",
       "  </thead>\n",
       "  <tbody>\n",
       "    <tr>\n",
       "      <th>4</th>\n",
       "      <td>2003-01-22</td>\n",
       "      <td>B1</td>\n",
       "      <td>4</td>\n",
       "      <td>0-20</td>\n",
       "      <td>0.21</td>\n",
       "      <td>NaN</td>\n",
       "      <td>2003</td>\n",
       "    </tr>\n",
       "    <tr>\n",
       "      <th>8</th>\n",
       "      <td>2003-02-18</td>\n",
       "      <td>B1</td>\n",
       "      <td>8</td>\n",
       "      <td>0-20</td>\n",
       "      <td>0.28</td>\n",
       "      <td>NaN</td>\n",
       "      <td>2003</td>\n",
       "    </tr>\n",
       "    <tr>\n",
       "      <th>11</th>\n",
       "      <td>2003-03-10</td>\n",
       "      <td>B1</td>\n",
       "      <td>11</td>\n",
       "      <td>0-20</td>\n",
       "      <td>1.47</td>\n",
       "      <td>NaN</td>\n",
       "      <td>2003</td>\n",
       "    </tr>\n",
       "    <tr>\n",
       "      <th>13</th>\n",
       "      <td>2003-03-25</td>\n",
       "      <td>B1</td>\n",
       "      <td>13</td>\n",
       "      <td>0-20</td>\n",
       "      <td>6.37</td>\n",
       "      <td>NaN</td>\n",
       "      <td>2003</td>\n",
       "    </tr>\n",
       "    <tr>\n",
       "      <th>14</th>\n",
       "      <td>2003-04-01</td>\n",
       "      <td>B1</td>\n",
       "      <td>14</td>\n",
       "      <td>0-20</td>\n",
       "      <td>4.22</td>\n",
       "      <td>NaN</td>\n",
       "      <td>2003</td>\n",
       "    </tr>\n",
       "  </tbody>\n",
       "</table>\n",
       "</div>"
      ],
      "text/plain": [
       "          SDATE station  week IDEPTH  Chl_a_ugl Comment_txt  year\n",
       "week                                                             \n",
       "4    2003-01-22      B1     4   0-20       0.21         NaN  2003\n",
       "8    2003-02-18      B1     8   0-20       0.28         NaN  2003\n",
       "11   2003-03-10      B1    11   0-20       1.47         NaN  2003\n",
       "13   2003-03-25      B1    13   0-20       6.37         NaN  2003\n",
       "14   2003-04-01      B1    14   0-20       4.22         NaN  2003"
      ]
     },
     "execution_count": 47,
     "metadata": {},
     "output_type": "execute_result"
    }
   ],
   "source": [
    "insitu.index = [insitu.station, insitu.year, insitu.week]\n",
    "#insitu.drop(labels=[\"station\",\"year\", \"week\"],axis=1,inplace=True)\n",
    "insitu.loc[\"B1\",2003][:5]\n"
   ]
  },
  {
   "cell_type": "code",
   "execution_count": 48,
   "metadata": {
    "collapsed": true
   },
   "outputs": [],
   "source": [
    "digitized_dic = digitized.to_dict(\"index\")#\"records\"\n",
    "insitu_dic = insitu.to_dict(\"index\")"
   ]
  },
  {
   "cell_type": "code",
   "execution_count": 49,
   "metadata": {
    "collapsed": false
   },
   "outputs": [
    {
     "data": {
      "text/plain": [
       "836"
      ]
     },
     "execution_count": 49,
     "metadata": {},
     "output_type": "execute_result"
    }
   ],
   "source": [
    "key_set = set(insitu_dic.keys())\n",
    "len(key_set)"
   ]
  },
  {
   "cell_type": "code",
   "execution_count": 50,
   "metadata": {
    "collapsed": false
   },
   "outputs": [
    {
     "data": {
      "text/plain": [
       "1077"
      ]
     },
     "execution_count": 50,
     "metadata": {},
     "output_type": "execute_result"
    }
   ],
   "source": [
    "key_set.update(set(digitized_dic.keys()))\n",
    "len(key_set)"
   ]
  },
  {
   "cell_type": "code",
   "execution_count": 51,
   "metadata": {
    "collapsed": true
   },
   "outputs": [],
   "source": [
    "data = {}\n",
    "for key in key_set:\n",
    "    data[key]={\"Chl_insitu\":[],\"Chl_digitized\":[]}\n",
    "    try:\n",
    "        data[key][\"Chl_insitu\"] = insitu_dic[key][\"Chl_a_ugl\"]\n",
    "    except:\n",
    "        data[key][\"Chl_insitu\"] = np.nan\n",
    "    try:\n",
    "        data[key][\"Chl_digitized\"] =  digitized_dic[key][\"Chl\"]        \n",
    "    except:\n",
    "        data[key][\"Chl_digitized\"] = np.nan    \n"
   ]
  },
  {
   "cell_type": "code",
   "execution_count": 52,
   "metadata": {
    "collapsed": false
   },
   "outputs": [
    {
     "data": {
      "text/html": [
       "<div>\n",
       "<table border=\"1\" class=\"dataframe\">\n",
       "  <thead>\n",
       "    <tr style=\"text-align: right;\">\n",
       "      <th></th>\n",
       "      <th>Chl_digitized</th>\n",
       "      <th>Chl_insitu</th>\n",
       "    </tr>\n",
       "  </thead>\n",
       "  <tbody>\n",
       "    <tr>\n",
       "      <th>4</th>\n",
       "      <td>0.21</td>\n",
       "      <td>0.21</td>\n",
       "    </tr>\n",
       "    <tr>\n",
       "      <th>8</th>\n",
       "      <td>0.31</td>\n",
       "      <td>0.28</td>\n",
       "    </tr>\n",
       "    <tr>\n",
       "      <th>11</th>\n",
       "      <td>1.50</td>\n",
       "      <td>1.47</td>\n",
       "    </tr>\n",
       "    <tr>\n",
       "      <th>13</th>\n",
       "      <td>6.40</td>\n",
       "      <td>6.37</td>\n",
       "    </tr>\n",
       "    <tr>\n",
       "      <th>14</th>\n",
       "      <td>4.30</td>\n",
       "      <td>4.22</td>\n",
       "    </tr>\n",
       "  </tbody>\n",
       "</table>\n",
       "</div>"
      ],
      "text/plain": [
       "    Chl_digitized  Chl_insitu\n",
       "4            0.21        0.21\n",
       "8            0.31        0.28\n",
       "11           1.50        1.47\n",
       "13           6.40        6.37\n",
       "14           4.30        4.22"
      ]
     },
     "execution_count": 52,
     "metadata": {},
     "output_type": "execute_result"
    }
   ],
   "source": [
    "df = pd.DataFrame(data)\n",
    "df[\"B1\"][2003].T[:5]"
   ]
  },
  {
   "cell_type": "code",
   "execution_count": 53,
   "metadata": {
    "collapsed": true
   },
   "outputs": [],
   "source": [
    "import matplotlib.pyplot as plt\n",
    "import matplotlib.cm as cm\n",
    "%matplotlib inline"
   ]
  },
  {
   "cell_type": "code",
   "execution_count": 54,
   "metadata": {
    "collapsed": false
   },
   "outputs": [
    {
     "data": {
      "text/plain": [
       "<matplotlib.figure.Figure at 0x7f2bb9bbbb90>"
      ]
     },
     "metadata": {},
     "output_type": "display_data"
    }
   ],
   "source": [
    "my_dpi = 96\n",
    "fig = plt.figure(figsize=(1695/my_dpi, 1677/my_dpi), dpi=my_dpi)"
   ]
  },
  {
   "cell_type": "code",
   "execution_count": 55,
   "metadata": {
    "collapsed": false
   },
   "outputs": [],
   "source": [
    "colours_experiment={2002:\"#5e4fa2\",2003:\"#3288bd\", 2004:\"#66c2a5\",2005:\"#abdda4\", 2006:\"#e6f598\",\n",
    "                    2007:\"lightgrey\",2008:\"grey\",2009:\"#fdae61\",2010:\"#f46d43\",2011:\"#d53e4f\",2012:\"#9e0142\"} "
   ]
  },
  {
   "cell_type": "code",
   "execution_count": 78,
   "metadata": {
    "collapsed": false
   },
   "outputs": [
    {
     "data": {
      "image/png": "[encoded data removed]",
      "text/plain": [
       "<matplotlib.figure.Figure at 0x7f2bb0199c50>"
      ]
     },
     "metadata": {},
     "output_type": "display_data"
    }
   ],
   "source": [
    "year = 2010\n",
    "# NOTE THAT H3 DIGITIZED FILE ACTUALLY WAS THE REAL INSITU VALUES. SO USE THOSE INSTEAD OF THE OLD INSITU VALUE FOR H3.\n",
    "station = \"B1\"\n",
    "ax={}\n",
    "ax[station] = plt.subplot2grid((1,1), (0,0), colspan=1)\n",
    "x = [0,18]\n",
    "y = [0,18]\n",
    "ax[station].plot(x,y,\"-\",c=\"black\")\n",
    "year = 2002\n",
    "ax[station].scatter(df[station][year].T[\"Chl_insitu\"], df[station][year].T[\"Chl_digitized\"], label=year, color = colours_experiment[year])\n",
    "year = 2003\n",
    "ax[station].scatter(df[station][year].T[\"Chl_insitu\"], df[station][year].T[\"Chl_digitized\"], label=year, color = colours_experiment[year])\n",
    "year = 2004\n",
    "ax[station].scatter(df[station][year].T[\"Chl_insitu\"], df[station][year].T[\"Chl_digitized\"], label=year, color = colours_experiment[year])\n",
    "year = 2005\n",
    "ax[station].scatter(df[station][year].T[\"Chl_insitu\"], df[station][year].T[\"Chl_digitized\"], label=year, color = colours_experiment[year])\n",
    "year = 2006\n",
    "ax[station].scatter(df[station][year].T[\"Chl_insitu\"], df[station][year].T[\"Chl_digitized\"], label=year, color = colours_experiment[year])\n",
    "year = 2007\n",
    "ax[station].scatter(df[station][year].T[\"Chl_insitu\"], df[station][year].T[\"Chl_digitized\"], label=year, color = colours_experiment[year])\n",
    "year = 2008\n",
    "ax[station].scatter(df[station][year].T[\"Chl_insitu\"], df[station][year].T[\"Chl_digitized\"], label=year, color = colours_experiment[year])\n",
    "year = 2009\n",
    "ax[station].scatter(df[station][year].T[\"Chl_insitu\"], df[station][year].T[\"Chl_digitized\"], label=year, color = colours_experiment[year])\n",
    "year = 2010\n",
    "ax[station].scatter(df[station][year].T[\"Chl_insitu\"], df[station][year].T[\"Chl_digitized\"], label=year, color = colours_experiment[year])\n",
    "year = 2011\n",
    "ax[station].scatter(df[station][year].T[\"Chl_insitu\"], df[station][year].T[\"Chl_digitized\"], label=year, color = colours_experiment[year])\n",
    "year = 2012\n",
    "ax[station].scatter(df[station][year].T[\"Chl_insitu\"], df[station][year].T[\"Chl_digitized\"], label=year, color = colours_experiment[year])\n",
    "\n",
    "ax[station].set_xlabel('Chl-in situ', fontsize=20)\n",
    "ax[station].set_ylabel('Chl-digitized', fontsize=20)\n",
    "ax[station].set_xlim(0,18)\n",
    "ax[station].set_ylim(0,18)\n",
    "ax[station].set_title(station, fontsize=24 )\n",
    "legbp = ax[station].legend(scatterpoints = 1, loc=\"upper right\",bbox_to_anchor=(1.25, 1.05), frameon = False) #\n",
    "#for text in legbp.get_texts():\n",
    "#    plt.setp(text, color = 'black', size = 24)\n",
    "\n"
   ]
  },
  {
   "cell_type": "code",
   "execution_count": 74,
   "metadata": {
    "collapsed": false
   },
   "outputs": [],
   "source": [
    "station = \"H5\"\n",
    "diff = (df[station][:].T[\"Chl_digitized\"] - df[station][:].T[\"Chl_insitu\"]) / df[station][:].T[\"Chl_insitu\"]"
   ]
  },
  {
   "cell_type": "code",
   "execution_count": 75,
   "metadata": {
    "collapsed": false
   },
   "outputs": [
    {
     "data": {
      "text/plain": [
       "'0.68'"
      ]
     },
     "execution_count": 75,
     "metadata": {},
     "output_type": "execute_result"
    }
   ],
   "source": [
    "# MNB\n",
    "\"{:.2f}\".format(diff.mean()*100)  "
   ]
  },
  {
   "cell_type": "code",
   "execution_count": 76,
   "metadata": {
    "collapsed": false
   },
   "outputs": [
    {
     "data": {
      "text/plain": [
       "'1.89'"
      ]
     },
     "execution_count": 76,
     "metadata": {},
     "output_type": "execute_result"
    }
   ],
   "source": [
    "# RMS\n",
    "\"{:.2f}\".format(diff.std()*100)"
   ]
  },
  {
   "cell_type": "code",
   "execution_count": 61,
   "metadata": {
    "collapsed": false
   },
   "outputs": [
    {
     "data": {
      "text/plain": [
       "'/home/jobel/gits/sciencit'"
      ]
     },
     "execution_count": 61,
     "metadata": {},
     "output_type": "execute_result"
    }
   ],
   "source": [
    "os.getcwd()"
   ]
  },
  {
   "cell_type": "code",
   "execution_count": 62,
   "metadata": {
    "collapsed": false
   },
   "outputs": [],
   "source": [
    "df.to_excel('chl_comparison.xlsx', sheet_name='Sheet1')"
   ]
  },
  {
   "cell_type": "code",
   "execution_count": null,
   "metadata": {
    "collapsed": true
   },
   "outputs": [],
   "source": []
  }
 ],
 "metadata": {
  "kernelspec": {
   "display_name": "Python 2",
   "language": "python",
   "name": "python2"
  },
  "language_info": {
   "codemirror_mode": {
    "name": "ipython",
    "version": 2
   },
   "file_extension": ".py",
   "mimetype": "text/x-python",
   "name": "python",
   "nbconvert_exporter": "python",
   "pygments_lexer": "ipython2",
   "version": "2.7.11"
  }
 },
 "nbformat": 4,
 "nbformat_minor": 0
}
