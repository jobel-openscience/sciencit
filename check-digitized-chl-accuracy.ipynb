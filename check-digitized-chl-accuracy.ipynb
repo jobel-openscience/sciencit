{
 "cells": [
  {
   "cell_type": "code",
   "execution_count": null,
   "metadata": {
    "collapsed": true
   },
   "outputs": [],
   "source": [
    ""
   ]
  },
  {
   "cell_type": "code",
   "execution_count": 1,
   "metadata": {
    "collapsed": true
   },
   "outputs": [],
   "source": [
    "import pandas as pd"
   ]
  },
  {
   "cell_type": "code",
   "execution_count": 2,
   "metadata": {
    "collapsed": true
   },
   "outputs": [],
   "source": [
    "# Insitu Source\n",
    "insitu = pd.read_csv(delimiter=\"\\t\", filepath_or_buffer=\".\\data\\HH_insitu_chl_timeseries_2016.txt\")"
   ]
  },
  {
   "cell_type": "code",
   "execution_count": 3,
   "metadata": {
    "collapsed": false
   },
   "outputs": [
    {
     "data": {
      "text/html": [
       "<div>\n",
       "<table border=\"1\" class=\"dataframe\">\n",
       "  <thead>\n",
       "    <tr style=\"text-align: right;\">\n",
       "      <th></th>\n",
       "      <th>SDATE</th>\n",
       "      <th>STATION</th>\n",
       "      <th>IDEPTH</th>\n",
       "      <th>Chl_a_ugl</th>\n",
       "      <th>Comment_txt</th>\n",
       "      <th>sampling_method</th>\n",
       "      <th>year</th>\n",
       "      <th>week</th>\n",
       "      <th>source</th>\n",
       "    </tr>\n",
       "  </thead>\n",
       "  <tbody>\n",
       "    <tr>\n",
       "      <th>0</th>\n",
       "      <td>1/22/2003</td>\n",
       "      <td>B1</td>\n",
       "      <td>0-20</td>\n",
       "      <td>0.21</td>\n",
       "      <td>NaN</td>\n",
       "      <td>hose</td>\n",
       "      <td>2003</td>\n",
       "      <td>4</td>\n",
       "      <td>Helena H�glander</td>\n",
       "    </tr>\n",
       "    <tr>\n",
       "      <th>1</th>\n",
       "      <td>2/18/2003</td>\n",
       "      <td>B1</td>\n",
       "      <td>0-20</td>\n",
       "      <td>0.28</td>\n",
       "      <td>NaN</td>\n",
       "      <td>hose</td>\n",
       "      <td>2003</td>\n",
       "      <td>8</td>\n",
       "      <td>Helena H�glander</td>\n",
       "    </tr>\n",
       "    <tr>\n",
       "      <th>2</th>\n",
       "      <td>3/10/2003</td>\n",
       "      <td>B1</td>\n",
       "      <td>0-20</td>\n",
       "      <td>1.47</td>\n",
       "      <td>NaN</td>\n",
       "      <td>hose</td>\n",
       "      <td>2003</td>\n",
       "      <td>11</td>\n",
       "      <td>Helena H�glander</td>\n",
       "    </tr>\n",
       "    <tr>\n",
       "      <th>3</th>\n",
       "      <td>3/25/2003</td>\n",
       "      <td>B1</td>\n",
       "      <td>0-20</td>\n",
       "      <td>6.37</td>\n",
       "      <td>NaN</td>\n",
       "      <td>hose</td>\n",
       "      <td>2003</td>\n",
       "      <td>13</td>\n",
       "      <td>Helena H�glander</td>\n",
       "    </tr>\n",
       "    <tr>\n",
       "      <th>4</th>\n",
       "      <td>4/1/2003</td>\n",
       "      <td>B1</td>\n",
       "      <td>0-20</td>\n",
       "      <td>4.22</td>\n",
       "      <td>NaN</td>\n",
       "      <td>hose</td>\n",
       "      <td>2003</td>\n",
       "      <td>14</td>\n",
       "      <td>Helena H�glander</td>\n",
       "    </tr>\n",
       "  </tbody>\n",
       "</table>\n",
       "</div>"
      ],
      "text/plain": [
       "<div>\n",
       "<table border=\"1\" class=\"dataframe\">\n",
       "  <thead>\n",
       "    <tr style=\"text-align: right;\">\n",
       "      <th></th>\n",
       "      <th>SDATE</th>\n",
       "      <th>STATION</th>\n",
       "      <th>IDEPTH</th>\n",
       "      <th>Chl_a_ugl</th>\n",
       "      <th>Comment_txt</th>\n",
       "      <th>sampling_method</th>\n",
       "      <th>year</th>\n",
       "      <th>week</th>\n",
       "      <th>source</th>\n",
       "    </tr>\n",
       "  </thead>\n",
       "  <tbody>\n",
       "    <tr>\n",
       "      <th>0</th>\n",
       "      <td>1/22/2003</td>\n",
       "      <td>B1</td>\n",
       "      <td>0-20</td>\n",
       "      <td>0.21</td>\n",
       "      <td>NaN</td>\n",
       "      <td>hose</td>\n",
       "      <td>2003</td>\n",
       "      <td>4</td>\n",
       "      <td>Helena H�glander</td>\n",
       "    </tr>\n",
       "    <tr>\n",
       "      <th>1</th>\n",
       "      <td>2/18/2003</td>\n",
       "      <td>B1</td>\n",
       "      <td>0-20</td>\n",
       "      <td>0.28</td>\n",
       "      <td>NaN</td>\n",
       "      <td>hose</td>\n",
       "      <td>2003</td>\n",
       "      <td>8</td>\n",
       "      <td>Helena H�glander</td>\n",
       "    </tr>\n",
       "    <tr>\n",
       "      <th>2</th>\n",
       "      <td>3/10/2003</td>\n",
       "      <td>B1</td>\n",
       "      <td>0-20</td>\n",
       "      <td>1.47</td>\n",
       "      <td>NaN</td>\n",
       "      <td>hose</td>\n",
       "      <td>2003</td>\n",
       "      <td>11</td>\n",
       "      <td>Helena H�glander</td>\n",
       "    </tr>\n",
       "    <tr>\n",
       "      <th>3</th>\n",
       "      <td>3/25/2003</td>\n",
       "      <td>B1</td>\n",
       "      <td>0-20</td>\n",
       "      <td>6.37</td>\n",
       "      <td>NaN</td>\n",
       "      <td>hose</td>\n",
       "      <td>2003</td>\n",
       "      <td>13</td>\n",
       "      <td>Helena H�glander</td>\n",
       "    </tr>\n",
       "    <tr>\n",
       "      <th>4</th>\n",
       "      <td>4/1/2003</td>\n",
       "      <td>B1</td>\n",
       "      <td>0-20</td>\n",
       "      <td>4.22</td>\n",
       "      <td>NaN</td>\n",
       "      <td>hose</td>\n",
       "      <td>2003</td>\n",
       "      <td>14</td>\n",
       "      <td>Helena H�glander</td>\n",
       "    </tr>\n",
       "  </tbody>\n",
       "</table>\n",
       "</div>"
      ]
     },
     "execution_count": 3,
     "metadata": {},
     "output_type": "execute_result"
    }
   ],
   "source": [
    "insitu.head()"
   ]
  },
  {
   "cell_type": "code",
   "execution_count": null,
   "metadata": {
    "collapsed": true
   },
   "outputs": [],
   "source": [
    ""
   ]
  }
 ],
 "metadata": {
  "kernelspec": {
   "display_name": "Python 2",
   "language": "python",
   "name": "python2"
  },
  "language_info": {
   "codemirror_mode": {
    "name": "ipython",
    "version": 2.0
   },
   "file_extension": ".py",
   "mimetype": "text/x-python",
   "name": "python",
   "nbconvert_exporter": "python",
   "pygments_lexer": "ipython2",
   "version": "2.7.11"
  }
 },
 "nbformat": 4,
 "nbformat_minor": 0
}